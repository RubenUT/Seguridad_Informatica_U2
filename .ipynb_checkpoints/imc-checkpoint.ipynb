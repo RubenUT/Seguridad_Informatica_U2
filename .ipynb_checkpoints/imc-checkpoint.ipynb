{
 "cells": [
  {
   "cell_type": "code",
   "execution_count": 1,
   "id": "38c6581c",
   "metadata": {},
   "outputs": [
    {
     "name": "stdout",
     "output_type": "stream",
     "text": [
      "Ingrese su nombre: Yo\n",
      "Ingrese su altura: 1.77\n",
      "Ingrese su peso kg: 60\n",
      "\n",
      "¡Hola Yo!\n",
      "Tu Índice de Masa Corporal (IMC) es: 19.15\n",
      "Clasificación de peso: Peso normal\n"
     ]
    }
   ],
   "source": [
    "# Funcion que determine el IMC y que determine nivel de peso\n",
    "def calcular_imc():\n",
    "    nombre = input(\"Ingrese su nombre: \")\n",
    "    altura = float(input(\"Ingrese su altura: \"))\n",
    "    peso = float(input(\"Ingrese su peso kg: \"))\n",
    "    \n",
    "    imc = peso / (altura ** 2)\n",
    "\n",
    "    if imc < 18.5:\n",
    "        clasificacion = \"Bajo peso\"\n",
    "    elif 18.5 <= imc < 24.9:\n",
    "        clasificacion = \"Peso normal\"\n",
    "    elif 25 <= imc < 29.9:\n",
    "        clasificacion = \"Sobrepeso\"\n",
    "    else:\n",
    "        clasificacion = \"Obesidad\"\n",
    "\n",
    " \n",
    "    print(f\"\\n¡Hola {nombre}!\")\n",
    "    print(f\"Tu Índice de Masa Corporal (IMC) es: {imc:.2f}\")\n",
    "    print(f\"Clasificación de peso: {clasificacion}\")\n",
    "\n",
    "calcular_imc()"
   ]
  }
 ],
 "metadata": {
  "kernelspec": {
   "display_name": "Python 3 (ipykernel)",
   "language": "python",
   "name": "python3"
  },
  "language_info": {
   "codemirror_mode": {
    "name": "ipython",
    "version": 3
   },
   "file_extension": ".py",
   "mimetype": "text/x-python",
   "name": "python",
   "nbconvert_exporter": "python",
   "pygments_lexer": "ipython3",
   "version": "3.11.4"
  }
 },
 "nbformat": 4,
 "nbformat_minor": 5
}
