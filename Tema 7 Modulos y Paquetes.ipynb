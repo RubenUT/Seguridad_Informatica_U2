{
 "cells": [
  {
   "cell_type": "code",
   "execution_count": 2,
   "id": "24c584eb",
   "metadata": {
    "scrolled": true
   },
   "outputs": [
    {
     "name": "stdout",
     "output_type": "stream",
     "text": [
      "11\n"
     ]
    }
   ],
   "source": [
    "import operaciones as op\n",
    "from mipaquete import modulo1\n",
    "from mipaquete2 import modulo1\n",
    "from mipaquete2 import modulo2\n",
    "from mipaquete2 import modulo3\n",
    "resultado = op.suma(5,6)\n",
    "print(resultado)\n",
    "\n"
   ]
  },
  {
   "cell_type": "code",
   "execution_count": 2,
   "id": "8913120d",
   "metadata": {
    "scrolled": true
   },
   "outputs": [
    {
     "name": "stdout",
     "output_type": "stream",
     "text": [
      "-1\n"
     ]
    }
   ],
   "source": [
    "resultado = operaciones.resta(5,6)\n",
    "print(resultado)"
   ]
  },
  {
   "cell_type": "code",
   "execution_count": 5,
   "id": "288ed586",
   "metadata": {
    "scrolled": true
   },
   "outputs": [
    {
     "name": "stdout",
     "output_type": "stream",
     "text": [
      "30\n"
     ]
    }
   ],
   "source": [
    "resultado = op.multiplicacion(5,6)\n",
    "print(resultado)"
   ]
  },
  {
   "cell_type": "code",
   "execution_count": 3,
   "id": "5f77b099",
   "metadata": {
    "scrolled": true
   },
   "outputs": [
    {
     "name": "stdout",
     "output_type": "stream",
     "text": [
      "Hola, me quieres?no\n",
      "noooo\n"
     ]
    }
   ],
   "source": [
    "modulo1.mequiere()"
   ]
  },
  {
   "cell_type": "code",
   "execution_count": 3,
   "id": "700bf2c8",
   "metadata": {
    "scrolled": true
   },
   "outputs": [
    {
     "name": "stdout",
     "output_type": "stream",
     "text": [
      "Ingresa el numero de elementos para el diccionario: 2\n",
      "Ingresa el nombre para la clave, posicion 0: name\n",
      "Ingresa el valor para la llave, posicion 0: ruben\n",
      "Ingresa el nombre para la clave, posicion 1: surname\n",
      "Ingresa el valor para la llave, posicion 1: estrada\n",
      "{'name': 'ruben', 'surname': 'estrada'}\n"
     ]
    }
   ],
   "source": [
    "modulo1.dicts_por_input()"
   ]
  },
  {
   "cell_type": "code",
   "execution_count": 6,
   "id": "d76ec576",
   "metadata": {
    "scrolled": true
   },
   "outputs": [
    {
     "name": "stdout",
     "output_type": "stream",
     "text": [
      "Especifica un tamanio para la lista: 3\n",
      "Escribe el valor de la posicion 0: 0\n",
      "Escribe el valor de la posicion 1: 1\n",
      "Escribe el valor de la posicion 2: 2\n",
      "[0, 1, 2]\n"
     ]
    }
   ],
   "source": [
    "modulo2.listas_por_input()"
   ]
  },
  {
   "cell_type": "code",
   "execution_count": 3,
   "id": "1521f2a5",
   "metadata": {},
   "outputs": [
    {
     "name": "stdout",
     "output_type": "stream",
     "text": [
      "Ingresa un inicio de rango: 10\n",
      "Ingresa un final de rango: 15\n",
      "Ingresa un inicio para la tabla: 10\n",
      "Ingresa un final para la tabla: 15\n",
      "\n",
      "10 x 10 = 100\n",
      "10 x 11 = 110\n",
      "10 x 12 = 120\n",
      "10 x 13 = 130\n",
      "10 x 14 = 140\n",
      "10 x 15 = 150\n",
      "\n",
      "11 x 10 = 110\n",
      "11 x 11 = 121\n",
      "11 x 12 = 132\n",
      "11 x 13 = 143\n",
      "11 x 14 = 154\n",
      "11 x 15 = 165\n",
      "\n",
      "12 x 10 = 120\n",
      "12 x 11 = 132\n",
      "12 x 12 = 144\n",
      "12 x 13 = 156\n",
      "12 x 14 = 168\n",
      "12 x 15 = 180\n",
      "\n",
      "13 x 10 = 130\n",
      "13 x 11 = 143\n",
      "13 x 12 = 156\n",
      "13 x 13 = 169\n",
      "13 x 14 = 182\n",
      "13 x 15 = 195\n",
      "\n",
      "14 x 10 = 140\n",
      "14 x 11 = 154\n",
      "14 x 12 = 168\n",
      "14 x 13 = 182\n",
      "14 x 14 = 196\n",
      "14 x 15 = 210\n",
      "\n",
      "15 x 10 = 150\n",
      "15 x 11 = 165\n",
      "15 x 12 = 180\n",
      "15 x 13 = 195\n",
      "15 x 14 = 210\n",
      "15 x 15 = 225\n"
     ]
    }
   ],
   "source": [
    "modulo3.calculadora()"
   ]
  }
 ],
 "metadata": {
  "kernelspec": {
   "display_name": "Python 3 (ipykernel)",
   "language": "python",
   "name": "python3"
  },
  "language_info": {
   "codemirror_mode": {
    "name": "ipython",
    "version": 3
   },
   "file_extension": ".py",
   "mimetype": "text/x-python",
   "name": "python",
   "nbconvert_exporter": "python",
   "pygments_lexer": "ipython3",
   "version": "3.11.4"
  }
 },
 "nbformat": 4,
 "nbformat_minor": 5
}
