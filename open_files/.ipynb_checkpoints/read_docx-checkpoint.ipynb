{
 "cells": [
  {
   "cell_type": "code",
   "execution_count": 4,
   "id": "a0946f5e",
   "metadata": {},
   "outputs": [
    {
     "name": "stdout",
     "output_type": "stream",
     "text": [
      "Python python Python python \n",
      "Python python \n",
      "Python python \n",
      "Python python \n",
      "Python python \n",
      "Python python \n",
      "\n"
     ]
    }
   ],
   "source": [
    "import docx\n",
    "\n",
    "doc = docx.Document('C:\\\\Users\\\\ruben\\\\Documents\\\\Python\\\\pdf_ejemplo.docx')\n",
    "\n",
    "document_text = []\n",
    "\n",
    "for paragraph in doc.paragraphs:\n",
    "    document_text.append(paragraph.text)\n",
    "\n",
    "full_text = '\\n'.join(document_text)\n",
    "\n",
    "print(full_text)"
   ]
  }
 ],
 "metadata": {
  "kernelspec": {
   "display_name": "Python 3 (ipykernel)",
   "language": "python",
   "name": "python3"
  },
  "language_info": {
   "codemirror_mode": {
    "name": "ipython",
    "version": 3
   },
   "file_extension": ".py",
   "mimetype": "text/x-python",
   "name": "python",
   "nbconvert_exporter": "python",
   "pygments_lexer": "ipython3",
   "version": "3.11.4"
  }
 },
 "nbformat": 4,
 "nbformat_minor": 5
}
