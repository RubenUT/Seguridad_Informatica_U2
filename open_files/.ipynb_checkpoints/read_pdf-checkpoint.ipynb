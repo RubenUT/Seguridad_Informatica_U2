{
 "cells": [
  {
   "cell_type": "code",
   "execution_count": 4,
   "id": "2ce0763f",
   "metadata": {},
   "outputs": [],
   "source": [
    "import PyPDF2"
   ]
  },
  {
   "cell_type": "code",
   "execution_count": 7,
   "id": "d058d2cc",
   "metadata": {},
   "outputs": [
    {
     "name": "stdout",
     "output_type": "stream",
     "text": [
      "Python python Python python  \n",
      "Python python  \n",
      "Python python  \n",
      "Python python  \n",
      "Python python  \n",
      "Python python  \n",
      " \n"
     ]
    }
   ],
   "source": [
    "pdf_file = open(\"C:\\\\Users\\\\ruben\\\\Documents\\\\Python\\\\pdf_ejemplo.pdf\",\"rb\")\n",
    "\n",
    "pdf_reader = PyPDF2.PdfReader(pdf_file)\n",
    "\n",
    "for page in pdf_reader.pages:\n",
    "    text = page.extract_text()\n",
    "    print(text)\n",
    "    \n",
    "pdf_file.close()"
   ]
  }
 ],
 "metadata": {
  "kernelspec": {
   "display_name": "Python 3 (ipykernel)",
   "language": "python",
   "name": "python3"
  },
  "language_info": {
   "codemirror_mode": {
    "name": "ipython",
    "version": 3
   },
   "file_extension": ".py",
   "mimetype": "text/x-python",
   "name": "python",
   "nbconvert_exporter": "python",
   "pygments_lexer": "ipython3",
   "version": "3.11.4"
  }
 },
 "nbformat": 4,
 "nbformat_minor": 5
}
